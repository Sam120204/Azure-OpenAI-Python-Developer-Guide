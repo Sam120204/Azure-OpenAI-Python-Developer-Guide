{
  "cells": [
    {
      "cell_type": "markdown",
      "metadata": {
        "id": "VLo5TUzpf8Hx"
      },
      "source": [
        "<a href=\"https://colab.research.google.com/github/milvus-io/bootcamp/blob/master/bootcamp/tutorials/quickstart/hybrid_search_with_milvus.ipynb\" target=\"_parent\"><img src=\"https://colab.research.google.com/assets/colab-badge.svg\" alt=\"Open In Colab\"/></a>   <a href=\"https://github.com/milvus-io/bootcamp/blob/master/bootcamp/tutorials/quickstart/hybrid_search_with_milvus.ipynb\" target=\"_blank\">\n",
        "    <img src=\"https://img.shields.io/badge/View%20on%20GitHub-555555?style=flat&logo=github&logoColor=white\" alt=\"GitHub Repository\"/>"
      ]
    },
    {
      "cell_type": "markdown",
      "metadata": {
        "id": "2IQjpTJpf8Hz"
      },
      "source": [
        "# Hybrid Search with Dense and Sparse Vectors in Milvus\n",
        "\n",
        "<img src=\"https://raw.githubusercontent.com/milvus-io/bootcamp/master/bootcamp/tutorials/quickstart/apps/hybrid_demo_with_milvus/pics/demo.png\"/>"
      ]
    },
    {
      "cell_type": "markdown",
      "metadata": {
        "id": "fcUHgmBvf8Hz"
      },
      "source": [
        "In this tutorial, we will demonstrate how to conduct hybrid search with [Milvus](https://milvus.io/docs/multi-vector-search.md) and [BGE-M3 model](https://github.com/FlagOpen/FlagEmbedding/tree/master/FlagEmbedding/BGE_M3). BGE-M3 model can convert text into dense and sparse vectors. Milvus supports storing both types of vectors in one collection, allowing for hybrid search that enhances the result relevance.\n",
        "\n",
        "Milvus supports Dense, Sparse, and Hybrid retrieval methods:\n",
        "\n",
        "- Dense Retrieval: Utilizes semantic context to understand the meaning behind queries.\n",
        "- Sparse Retrieval: Emphasizes keyword matching to find results based on specific terms, equivalent to full-text search.\n",
        "- Hybrid Retrieval: Combines both Dense and Sparse approaches, capturing the full context and specific keywords for comprehensive search results.\n",
        "\n",
        "By integrating these methods, the Milvus Hybrid Search balances semantic and lexical similarities, improving the overall relevance of search outcomes. This notebook will walk through the process of setting up and using these retrieval strategies, highlighting their effectiveness in various search scenarios."
      ]
    },
    {
      "cell_type": "markdown",
      "metadata": {
        "id": "UBCvOmQbf8Hz"
      },
      "source": [
        "### Dependencies and Environment"
      ]
    },
    {
      "cell_type": "code",
      "execution_count": 1,
      "metadata": {
        "id": "TRw5ZAtPf8Hz",
        "outputId": "c8e08965-2c50-4190-888a-d5df21b15eea",
        "colab": {
          "base_uri": "https://localhost:8080/"
        }
      },
      "outputs": [
        {
          "output_type": "stream",
          "name": "stdout",
          "text": [
            "Collecting pymilvus\n",
            "  Downloading pymilvus-2.5.4-py3-none-any.whl.metadata (5.7 kB)\n",
            "Requirement already satisfied: setuptools>69 in /usr/local/lib/python3.11/dist-packages (from pymilvus) (75.1.0)\n",
            "Collecting grpcio<=1.67.1,>=1.49.1 (from pymilvus)\n",
            "  Downloading grpcio-1.67.1-cp311-cp311-manylinux_2_17_x86_64.manylinux2014_x86_64.whl.metadata (3.9 kB)\n",
            "Requirement already satisfied: protobuf>=3.20.0 in /usr/local/lib/python3.11/dist-packages (from pymilvus) (4.25.6)\n",
            "Collecting python-dotenv<2.0.0,>=1.0.1 (from pymilvus)\n",
            "  Downloading python_dotenv-1.0.1-py3-none-any.whl.metadata (23 kB)\n",
            "Collecting ujson>=2.0.0 (from pymilvus)\n",
            "  Downloading ujson-5.10.0-cp311-cp311-manylinux_2_17_x86_64.manylinux2014_x86_64.whl.metadata (9.3 kB)\n",
            "Requirement already satisfied: pandas>=1.2.4 in /usr/local/lib/python3.11/dist-packages (from pymilvus) (2.2.2)\n",
            "Collecting milvus-lite>=2.4.0 (from pymilvus)\n",
            "  Downloading milvus_lite-2.4.11-py3-none-manylinux2014_x86_64.whl.metadata (9.2 kB)\n",
            "Collecting milvus-model>=0.1.0 (from pymilvus[model])\n",
            "  Downloading milvus_model-0.2.12-py3-none-any.whl.metadata (1.6 kB)\n",
            "Requirement already satisfied: tqdm in /usr/local/lib/python3.11/dist-packages (from milvus-lite>=2.4.0->pymilvus) (4.67.1)\n",
            "Requirement already satisfied: transformers>=4.36.0 in /usr/local/lib/python3.11/dist-packages (from milvus-model>=0.1.0->pymilvus[model]) (4.47.1)\n",
            "Collecting onnxruntime (from milvus-model>=0.1.0->pymilvus[model])\n",
            "  Downloading onnxruntime-1.20.1-cp311-cp311-manylinux_2_27_x86_64.manylinux_2_28_x86_64.whl.metadata (4.5 kB)\n",
            "Requirement already satisfied: scipy>=1.10.0 in /usr/local/lib/python3.11/dist-packages (from milvus-model>=0.1.0->pymilvus[model]) (1.13.1)\n",
            "Requirement already satisfied: numpy in /usr/local/lib/python3.11/dist-packages (from milvus-model>=0.1.0->pymilvus[model]) (1.26.4)\n",
            "Requirement already satisfied: python-dateutil>=2.8.2 in /usr/local/lib/python3.11/dist-packages (from pandas>=1.2.4->pymilvus) (2.8.2)\n",
            "Requirement already satisfied: pytz>=2020.1 in /usr/local/lib/python3.11/dist-packages (from pandas>=1.2.4->pymilvus) (2024.2)\n",
            "Requirement already satisfied: tzdata>=2022.7 in /usr/local/lib/python3.11/dist-packages (from pandas>=1.2.4->pymilvus) (2025.1)\n",
            "Requirement already satisfied: six>=1.5 in /usr/local/lib/python3.11/dist-packages (from python-dateutil>=2.8.2->pandas>=1.2.4->pymilvus) (1.17.0)\n",
            "Requirement already satisfied: filelock in /usr/local/lib/python3.11/dist-packages (from transformers>=4.36.0->milvus-model>=0.1.0->pymilvus[model]) (3.17.0)\n",
            "Requirement already satisfied: huggingface-hub<1.0,>=0.24.0 in /usr/local/lib/python3.11/dist-packages (from transformers>=4.36.0->milvus-model>=0.1.0->pymilvus[model]) (0.27.1)\n",
            "Requirement already satisfied: packaging>=20.0 in /usr/local/lib/python3.11/dist-packages (from transformers>=4.36.0->milvus-model>=0.1.0->pymilvus[model]) (24.2)\n",
            "Requirement already satisfied: pyyaml>=5.1 in /usr/local/lib/python3.11/dist-packages (from transformers>=4.36.0->milvus-model>=0.1.0->pymilvus[model]) (6.0.2)\n",
            "Requirement already satisfied: regex!=2019.12.17 in /usr/local/lib/python3.11/dist-packages (from transformers>=4.36.0->milvus-model>=0.1.0->pymilvus[model]) (2024.11.6)\n",
            "Requirement already satisfied: requests in /usr/local/lib/python3.11/dist-packages (from transformers>=4.36.0->milvus-model>=0.1.0->pymilvus[model]) (2.32.3)\n",
            "Requirement already satisfied: tokenizers<0.22,>=0.21 in /usr/local/lib/python3.11/dist-packages (from transformers>=4.36.0->milvus-model>=0.1.0->pymilvus[model]) (0.21.0)\n",
            "Requirement already satisfied: safetensors>=0.4.1 in /usr/local/lib/python3.11/dist-packages (from transformers>=4.36.0->milvus-model>=0.1.0->pymilvus[model]) (0.5.2)\n",
            "Collecting coloredlogs (from onnxruntime->milvus-model>=0.1.0->pymilvus[model])\n",
            "  Downloading coloredlogs-15.0.1-py2.py3-none-any.whl.metadata (12 kB)\n",
            "Requirement already satisfied: flatbuffers in /usr/local/lib/python3.11/dist-packages (from onnxruntime->milvus-model>=0.1.0->pymilvus[model]) (25.1.24)\n",
            "Requirement already satisfied: sympy in /usr/local/lib/python3.11/dist-packages (from onnxruntime->milvus-model>=0.1.0->pymilvus[model]) (1.13.1)\n",
            "Requirement already satisfied: fsspec>=2023.5.0 in /usr/local/lib/python3.11/dist-packages (from huggingface-hub<1.0,>=0.24.0->transformers>=4.36.0->milvus-model>=0.1.0->pymilvus[model]) (2024.10.0)\n",
            "Requirement already satisfied: typing-extensions>=3.7.4.3 in /usr/local/lib/python3.11/dist-packages (from huggingface-hub<1.0,>=0.24.0->transformers>=4.36.0->milvus-model>=0.1.0->pymilvus[model]) (4.12.2)\n",
            "Collecting humanfriendly>=9.1 (from coloredlogs->onnxruntime->milvus-model>=0.1.0->pymilvus[model])\n",
            "  Downloading humanfriendly-10.0-py2.py3-none-any.whl.metadata (9.2 kB)\n",
            "Requirement already satisfied: charset-normalizer<4,>=2 in /usr/local/lib/python3.11/dist-packages (from requests->transformers>=4.36.0->milvus-model>=0.1.0->pymilvus[model]) (3.4.1)\n",
            "Requirement already satisfied: idna<4,>=2.5 in /usr/local/lib/python3.11/dist-packages (from requests->transformers>=4.36.0->milvus-model>=0.1.0->pymilvus[model]) (3.10)\n",
            "Requirement already satisfied: urllib3<3,>=1.21.1 in /usr/local/lib/python3.11/dist-packages (from requests->transformers>=4.36.0->milvus-model>=0.1.0->pymilvus[model]) (2.3.0)\n",
            "Requirement already satisfied: certifi>=2017.4.17 in /usr/local/lib/python3.11/dist-packages (from requests->transformers>=4.36.0->milvus-model>=0.1.0->pymilvus[model]) (2024.12.14)\n",
            "Requirement already satisfied: mpmath<1.4,>=1.1.0 in /usr/local/lib/python3.11/dist-packages (from sympy->onnxruntime->milvus-model>=0.1.0->pymilvus[model]) (1.3.0)\n",
            "Downloading pymilvus-2.5.4-py3-none-any.whl (222 kB)\n",
            "\u001b[2K   \u001b[90m━━━━━━━━━━━━━━━━━━━━━━━━━━━━━━━━━━━━━━━━\u001b[0m \u001b[32m222.4/222.4 kB\u001b[0m \u001b[31m11.7 MB/s\u001b[0m eta \u001b[36m0:00:00\u001b[0m\n",
            "\u001b[?25hDownloading grpcio-1.67.1-cp311-cp311-manylinux_2_17_x86_64.manylinux2014_x86_64.whl (5.9 MB)\n",
            "\u001b[2K   \u001b[90m━━━━━━━━━━━━━━━━━━━━━━━━━━━━━━━━━━━━━━━━\u001b[0m \u001b[32m5.9/5.9 MB\u001b[0m \u001b[31m57.9 MB/s\u001b[0m eta \u001b[36m0:00:00\u001b[0m\n",
            "\u001b[?25hDownloading milvus_lite-2.4.11-py3-none-manylinux2014_x86_64.whl (45.2 MB)\n",
            "\u001b[2K   \u001b[90m━━━━━━━━━━━━━━━━━━━━━━━━━━━━━━━━━━━━━━━━\u001b[0m \u001b[32m45.2/45.2 MB\u001b[0m \u001b[31m13.3 MB/s\u001b[0m eta \u001b[36m0:00:00\u001b[0m\n",
            "\u001b[?25hDownloading milvus_model-0.2.12-py3-none-any.whl (43 kB)\n",
            "\u001b[2K   \u001b[90m━━━━━━━━━━━━━━━━━━━━━━━━━━━━━━━━━━━━━━━━\u001b[0m \u001b[32m43.2/43.2 kB\u001b[0m \u001b[31m2.0 MB/s\u001b[0m eta \u001b[36m0:00:00\u001b[0m\n",
            "\u001b[?25hDownloading python_dotenv-1.0.1-py3-none-any.whl (19 kB)\n",
            "Downloading ujson-5.10.0-cp311-cp311-manylinux_2_17_x86_64.manylinux2014_x86_64.whl (53 kB)\n",
            "\u001b[2K   \u001b[90m━━━━━━━━━━━━━━━━━━━━━━━━━━━━━━━━━━━━━━━━\u001b[0m \u001b[32m53.6/53.6 kB\u001b[0m \u001b[31m4.0 MB/s\u001b[0m eta \u001b[36m0:00:00\u001b[0m\n",
            "\u001b[?25hDownloading onnxruntime-1.20.1-cp311-cp311-manylinux_2_27_x86_64.manylinux_2_28_x86_64.whl (13.3 MB)\n",
            "\u001b[2K   \u001b[90m━━━━━━━━━━━━━━━━━━━━━━━━━━━━━━━━━━━━━━━━\u001b[0m \u001b[32m13.3/13.3 MB\u001b[0m \u001b[31m58.4 MB/s\u001b[0m eta \u001b[36m0:00:00\u001b[0m\n",
            "\u001b[?25hDownloading coloredlogs-15.0.1-py2.py3-none-any.whl (46 kB)\n",
            "\u001b[2K   \u001b[90m━━━━━━━━━━━━━━━━━━━━━━━━━━━━━━━━━━━━━━━━\u001b[0m \u001b[32m46.0/46.0 kB\u001b[0m \u001b[31m3.0 MB/s\u001b[0m eta \u001b[36m0:00:00\u001b[0m\n",
            "\u001b[?25hDownloading humanfriendly-10.0-py2.py3-none-any.whl (86 kB)\n",
            "\u001b[2K   \u001b[90m━━━━━━━━━━━━━━━━━━━━━━━━━━━━━━━━━━━━━━━━\u001b[0m \u001b[32m86.8/86.8 kB\u001b[0m \u001b[31m6.4 MB/s\u001b[0m eta \u001b[36m0:00:00\u001b[0m\n",
            "\u001b[?25hInstalling collected packages: ujson, python-dotenv, milvus-lite, humanfriendly, grpcio, coloredlogs, pymilvus, onnxruntime, milvus-model\n",
            "  Attempting uninstall: grpcio\n",
            "    Found existing installation: grpcio 1.70.0\n",
            "    Uninstalling grpcio-1.70.0:\n",
            "      Successfully uninstalled grpcio-1.70.0\n",
            "Successfully installed coloredlogs-15.0.1 grpcio-1.67.1 humanfriendly-10.0 milvus-lite-2.4.11 milvus-model-0.2.12 onnxruntime-1.20.1 pymilvus-2.5.4 python-dotenv-1.0.1 ujson-5.10.0\n"
          ]
        }
      ],
      "source": [
        "!pip install --upgrade pymilvus \"pymilvus[model]\""
      ]
    },
    {
      "cell_type": "markdown",
      "metadata": {
        "id": "X689-zgff8H0"
      },
      "source": [
        "### Download Dataset"
      ]
    },
    {
      "cell_type": "markdown",
      "metadata": {
        "id": "OPnn0_gVf8H0"
      },
      "source": [
        "To demonstrate search, we need a corpus of documents. Let's use the Quora Duplicate Questions dataset and place it in the local directory.\n",
        "\n",
        "Source of the dataset: [First Quora Dataset Release: Question Pairs](https://www.quora.com/q/quoradata/First-Quora-Dataset-Release-Question-Pairs)"
      ]
    },
    {
      "cell_type": "code",
      "execution_count": 2,
      "metadata": {
        "id": "1609pGaPf8H0",
        "outputId": "90a02640-38df-4372-f57b-34984a84a362",
        "colab": {
          "base_uri": "https://localhost:8080/"
        }
      },
      "outputs": [
        {
          "output_type": "stream",
          "name": "stdout",
          "text": [
            "--2025-02-05 19:05:07--  http://qim.fs.quoracdn.net/quora_duplicate_questions.tsv\n",
            "Resolving qim.fs.quoracdn.net (qim.fs.quoracdn.net)... 162.159.153.247, 162.159.152.17\n",
            "Connecting to qim.fs.quoracdn.net (qim.fs.quoracdn.net)|162.159.153.247|:80... connected.\n",
            "HTTP request sent, awaiting response... 301 Moved Permanently\n",
            "Location: https://qim.fs.quoracdn.net/quora_duplicate_questions.tsv [following]\n",
            "--2025-02-05 19:05:07--  https://qim.fs.quoracdn.net/quora_duplicate_questions.tsv\n",
            "Connecting to qim.fs.quoracdn.net (qim.fs.quoracdn.net)|162.159.153.247|:443... connected.\n",
            "HTTP request sent, awaiting response... 200 OK\n",
            "Length: 58176133 (55M) [text/tab-separated-values]\n",
            "Saving to: ‘quora_duplicate_questions.tsv’\n",
            "\n",
            "quora_duplicate_que 100%[===================>]  55.48M   114MB/s    in 0.5s    \n",
            "\n",
            "2025-02-05 19:05:08 (114 MB/s) - ‘quora_duplicate_questions.tsv’ saved [58176133/58176133]\n",
            "\n"
          ]
        }
      ],
      "source": [
        "# Run this cell to download the dataset\n",
        "!wget http://qim.fs.quoracdn.net/quora_duplicate_questions.tsv"
      ]
    },
    {
      "cell_type": "markdown",
      "metadata": {
        "id": "KiPs4yzCf8H1"
      },
      "source": [
        "### Load and Prepare Data\n",
        "\n",
        "We will load the dataset and prepare a small corpus for search."
      ]
    },
    {
      "cell_type": "code",
      "execution_count": 3,
      "metadata": {
        "id": "NMW28wcff8H1",
        "outputId": "b818c82e-d3c2-45a5-bc85-822042d90060",
        "colab": {
          "base_uri": "https://localhost:8080/"
        }
      },
      "outputs": [
        {
          "output_type": "stream",
          "name": "stdout",
          "text": [
            "What universities does B&G Foods recruit new grads from? What majors are they looking for?\n"
          ]
        }
      ],
      "source": [
        "import pandas as pd\n",
        "\n",
        "file_path = \"quora_duplicate_questions.tsv\"\n",
        "df = pd.read_csv(file_path, sep=\"\\t\")\n",
        "questions = set()\n",
        "for _, row in df.iterrows():\n",
        "    obj = row.to_dict()\n",
        "    questions.add(obj[\"question1\"][:512])\n",
        "    questions.add(obj[\"question2\"][:512])\n",
        "    if len(questions) > 500:  # Skip this if you want to use the full dataset\n",
        "        break\n",
        "\n",
        "docs = list(questions)\n",
        "\n",
        "# example question\n",
        "print(docs[0])"
      ]
    },
    {
      "cell_type": "markdown",
      "metadata": {
        "id": "mz4IhHc4f8H1"
      },
      "source": [
        "### Use BGE-M3 Model for Embeddings\n",
        "\n",
        "The BGE-M3 model can embed texts as dense and sparse vectors."
      ]
    },
    {
      "cell_type": "code",
      "execution_count": null,
      "metadata": {
        "id": "x6006EN3f8H1",
        "outputId": "18bf9fac-ece9-45c4-ec05-92d49ff25097",
        "colab": {
          "base_uri": "https://localhost:8080/"
        }
      },
      "outputs": [
        {
          "output_type": "stream",
          "name": "stdout",
          "text": [
            "start to install package: datasets\n",
            "successfully installed package: datasets\n",
            "start to install package: FlagEmbedding>=1.3.3\n"
          ]
        }
      ],
      "source": [
        "from milvus_model.hybrid import BGEM3EmbeddingFunction\n",
        "\n",
        "ef = BGEM3EmbeddingFunction(use_fp16=False, device=\"cpu\")\n",
        "dense_dim = ef.dim[\"dense\"]\n",
        "\n",
        "# Generate embeddings using BGE-M3 model\n",
        "docs_embeddings = ef(docs)"
      ]
    },
    {
      "cell_type": "markdown",
      "metadata": {
        "id": "iEf-5iIaf8H2"
      },
      "source": [
        "### Setup Milvus Collection and Index\n",
        "\n",
        "We will set up the Milvus collection and create indices for the vector fields.\n",
        "\n",
        "> - Setting the uri as a local file, e.g. \"./milvus.db\", is the most convenient method, as it automatically utilizes [Milvus Lite](https://milvus.io/docs/milvus_lite.md) to store all data in this file.\n",
        "> - If you have large scale of data, say more than a million vectors, you can set up a more performant Milvus server on [Docker or Kubernetes](https://milvus.io/docs/quickstart.md). In this setup, please use the server uri, e.g.http://localhost:19530, as your uri.\n",
        "> - If you want to use [Zilliz Cloud](https://zilliz.com/cloud), the fully managed cloud service for Milvus, adjust the uri and token, which correspond to the [Public Endpoint and API key](https://docs.zilliz.com/docs/on-zilliz-cloud-console#cluster-details) in Zilliz Cloud."
      ]
    },
    {
      "cell_type": "code",
      "execution_count": null,
      "metadata": {
        "id": "ejB5U-dPf8H2"
      },
      "outputs": [],
      "source": [
        "from pymilvus import (\n",
        "    connections,\n",
        "    utility,\n",
        "    FieldSchema,\n",
        "    CollectionSchema,\n",
        "    DataType,\n",
        "    Collection,\n",
        ")\n",
        "\n",
        "# Connect to Milvus given URI\n",
        "connections.connect(uri=\"./milvus.db\")\n",
        "\n",
        "# Specify the data schema for the new Collection\n",
        "fields = [\n",
        "    # Use auto generated id as primary key\n",
        "    FieldSchema(\n",
        "        name=\"pk\", dtype=DataType.VARCHAR, is_primary=True, auto_id=True, max_length=100\n",
        "    ),\n",
        "    # Store the original text to retrieve based on semantically distance\n",
        "    FieldSchema(name=\"text\", dtype=DataType.VARCHAR, max_length=512),\n",
        "    # Milvus now supports both sparse and dense vectors,\n",
        "    # we can store each in a separate field to conduct hybrid search on both vectors\n",
        "    FieldSchema(name=\"sparse_vector\", dtype=DataType.SPARSE_FLOAT_VECTOR),\n",
        "    FieldSchema(name=\"dense_vector\", dtype=DataType.FLOAT_VECTOR, dim=dense_dim),\n",
        "]\n",
        "schema = CollectionSchema(fields)\n",
        "\n",
        "# Create collection (drop the old one if exists)\n",
        "col_name = \"hybrid_demo\"\n",
        "if utility.has_collection(col_name):\n",
        "    Collection(col_name).drop()\n",
        "col = Collection(col_name, schema, consistency_level=\"Strong\")\n",
        "\n",
        "# To make vector search efficient, we need to create indices for the vector fields\n",
        "sparse_index = {\"index_type\": \"SPARSE_INVERTED_INDEX\", \"metric_type\": \"IP\"}\n",
        "col.create_index(\"sparse_vector\", sparse_index)\n",
        "dense_index = {\"index_type\": \"AUTOINDEX\", \"metric_type\": \"IP\"}\n",
        "col.create_index(\"dense_vector\", dense_index)\n",
        "col.load()"
      ]
    },
    {
      "cell_type": "markdown",
      "metadata": {
        "id": "y_FBH6fGf8H2"
      },
      "source": [
        "### Insert Data into Milvus Collection\n",
        "\n",
        "Insert documents and their embeddings into the collection."
      ]
    },
    {
      "cell_type": "code",
      "execution_count": null,
      "metadata": {
        "id": "xzljQN8cf8H2",
        "outputId": "71118817-32dc-457e-e92e-4d0ade0a491b"
      },
      "outputs": [
        {
          "name": "stdout",
          "output_type": "stream",
          "text": [
            "Number of entities inserted: 502\n"
          ]
        }
      ],
      "source": [
        "# For efficiency, we insert 50 records in each small batch\n",
        "for i in range(0, len(docs), 50):\n",
        "    batched_entities = [\n",
        "        docs[i : i + 50],\n",
        "        docs_embeddings[\"sparse\"][i : i + 50],\n",
        "        docs_embeddings[\"dense\"][i : i + 50],\n",
        "    ]\n",
        "    col.insert(batched_entities)\n",
        "print(\"Number of entities inserted:\", col.num_entities)"
      ]
    },
    {
      "cell_type": "markdown",
      "metadata": {
        "id": "2gXWvY3Nf8H2"
      },
      "source": [
        "### Enter Your Search Query"
      ]
    },
    {
      "cell_type": "code",
      "execution_count": null,
      "metadata": {
        "id": "2gB1Mc13f8H2",
        "outputId": "dd3d14dd-37ec-47dc-e3bc-87c85b545e08"
      },
      "outputs": [
        {
          "name": "stdout",
          "output_type": "stream",
          "text": [
            "How to start learning programming?\n"
          ]
        }
      ],
      "source": [
        "# Enter your search query\n",
        "query = input(\"Enter your search query: \")\n",
        "print(query)\n",
        "\n",
        "# Generate embeddings for the query\n",
        "query_embeddings = ef([query])\n",
        "# print(query_embeddings)"
      ]
    },
    {
      "cell_type": "markdown",
      "metadata": {
        "id": "AcxzmB0Of8H2"
      },
      "source": [
        "### Run the Search\n",
        "\n",
        "We will first prepare some helpful functions to run the search:\n",
        "\n",
        "- `dense_search`: only search across dense vector field\n",
        "- `sparse_search`: only search across sparse vector field\n",
        "- `hybrid_search`: search across both dense and vector fields with a weighted reranker"
      ]
    },
    {
      "cell_type": "code",
      "execution_count": null,
      "metadata": {
        "id": "CWWAWR-qf8H2"
      },
      "outputs": [],
      "source": [
        "from pymilvus import (\n",
        "    AnnSearchRequest,\n",
        "    WeightedRanker,\n",
        ")\n",
        "\n",
        "\n",
        "def dense_search(col, query_dense_embedding, limit=10):\n",
        "    search_params = {\"metric_type\": \"IP\", \"params\": {}}\n",
        "    res = col.search(\n",
        "        [query_dense_embedding],\n",
        "        anns_field=\"dense_vector\",\n",
        "        limit=limit,\n",
        "        output_fields=[\"text\"],\n",
        "        param=search_params,\n",
        "    )[0]\n",
        "    return [hit.get(\"text\") for hit in res]\n",
        "\n",
        "\n",
        "def sparse_search(col, query_sparse_embedding, limit=10):\n",
        "    search_params = {\n",
        "        \"metric_type\": \"IP\",\n",
        "        \"params\": {},\n",
        "    }\n",
        "    res = col.search(\n",
        "        [query_sparse_embedding],\n",
        "        anns_field=\"sparse_vector\",\n",
        "        limit=limit,\n",
        "        output_fields=[\"text\"],\n",
        "        param=search_params,\n",
        "    )[0]\n",
        "    return [hit.get(\"text\") for hit in res]\n",
        "\n",
        "\n",
        "def hybrid_search(\n",
        "    col,\n",
        "    query_dense_embedding,\n",
        "    query_sparse_embedding,\n",
        "    sparse_weight=1.0,\n",
        "    dense_weight=1.0,\n",
        "    limit=10,\n",
        "):\n",
        "    dense_search_params = {\"metric_type\": \"IP\", \"params\": {}}\n",
        "    dense_req = AnnSearchRequest(\n",
        "        [query_dense_embedding], \"dense_vector\", dense_search_params, limit=limit\n",
        "    )\n",
        "    sparse_search_params = {\"metric_type\": \"IP\", \"params\": {}}\n",
        "    sparse_req = AnnSearchRequest(\n",
        "        [query_sparse_embedding], \"sparse_vector\", sparse_search_params, limit=limit\n",
        "    )\n",
        "    rerank = WeightedRanker(sparse_weight, dense_weight)\n",
        "    res = col.hybrid_search(\n",
        "        [sparse_req, dense_req], rerank=rerank, limit=limit, output_fields=[\"text\"]\n",
        "    )[0]\n",
        "    return [hit.get(\"text\") for hit in res]"
      ]
    },
    {
      "cell_type": "markdown",
      "metadata": {
        "id": "a6BtkSwhf8H2"
      },
      "source": [
        "Let's run three different searches with defined functions:"
      ]
    },
    {
      "cell_type": "code",
      "execution_count": null,
      "metadata": {
        "id": "mHQxc7iuf8H2"
      },
      "outputs": [],
      "source": [
        "dense_results = dense_search(col, query_embeddings[\"dense\"][0])\n",
        "sparse_results = sparse_search(col, query_embeddings[\"sparse\"][[0]])\n",
        "hybrid_results = hybrid_search(\n",
        "    col,\n",
        "    query_embeddings[\"dense\"][0],\n",
        "    query_embeddings[\"sparse\"][[0]],\n",
        "    sparse_weight=0.7,\n",
        "    dense_weight=1.0,\n",
        ")"
      ]
    },
    {
      "cell_type": "markdown",
      "metadata": {
        "id": "QLvwuLgrf8H2"
      },
      "source": [
        "### Display Search Results\n",
        "\n",
        "To display the results for Dense, Sparse, and Hybrid searches, we need some utilities to format the results."
      ]
    },
    {
      "cell_type": "code",
      "execution_count": null,
      "metadata": {
        "id": "ogCV2EMgf8H2"
      },
      "outputs": [],
      "source": [
        "def doc_text_formatting(ef, query, docs):\n",
        "    tokenizer = ef.model.tokenizer\n",
        "    query_tokens_ids = tokenizer.encode(query, return_offsets_mapping=True)\n",
        "    query_tokens = tokenizer.convert_ids_to_tokens(query_tokens_ids)\n",
        "    formatted_texts = []\n",
        "\n",
        "    for doc in docs:\n",
        "        ldx = 0\n",
        "        landmarks = []\n",
        "        encoding = tokenizer.encode_plus(doc, return_offsets_mapping=True)\n",
        "        tokens = tokenizer.convert_ids_to_tokens(encoding[\"input_ids\"])[1:-1]\n",
        "        offsets = encoding[\"offset_mapping\"][1:-1]\n",
        "        for token, (start, end) in zip(tokens, offsets):\n",
        "            if token in query_tokens:\n",
        "                if len(landmarks) != 0 and start == landmarks[-1]:\n",
        "                    landmarks[-1] = end\n",
        "                else:\n",
        "                    landmarks.append(start)\n",
        "                    landmarks.append(end)\n",
        "        close = False\n",
        "        formatted_text = \"\"\n",
        "        for i, c in enumerate(doc):\n",
        "            if ldx == len(landmarks):\n",
        "                pass\n",
        "            elif i == landmarks[ldx]:\n",
        "                if close:\n",
        "                    formatted_text += \"</span>\"\n",
        "                else:\n",
        "                    formatted_text += \"<span style='color:red'>\"\n",
        "                close = not close\n",
        "                ldx = ldx + 1\n",
        "            formatted_text += c\n",
        "        if close is True:\n",
        "            formatted_text += \"</span>\"\n",
        "        formatted_texts.append(formatted_text)\n",
        "    return formatted_texts"
      ]
    },
    {
      "cell_type": "markdown",
      "metadata": {
        "id": "DkWzxVW1f8H3"
      },
      "source": [
        "Then we can display search results in text with highlights:"
      ]
    },
    {
      "cell_type": "code",
      "execution_count": null,
      "metadata": {
        "id": "6G-LvP8ef8H3",
        "outputId": "61399c08-e8d3-4b2a-c0ce-95c7c5398161"
      },
      "outputs": [
        {
          "data": {
            "text/markdown": [
              "**Dense Search Results:**"
            ],
            "text/plain": [
              "<IPython.core.display.Markdown object>"
            ]
          },
          "metadata": {},
          "output_type": "display_data"
        },
        {
          "data": {
            "text/markdown": [
              "What's the best way to start learning robotics?"
            ],
            "text/plain": [
              "<IPython.core.display.Markdown object>"
            ]
          },
          "metadata": {},
          "output_type": "display_data"
        },
        {
          "data": {
            "text/markdown": [
              "How do I learn a computer language like java?"
            ],
            "text/plain": [
              "<IPython.core.display.Markdown object>"
            ]
          },
          "metadata": {},
          "output_type": "display_data"
        },
        {
          "data": {
            "text/markdown": [
              "How can I get started to learn information security?"
            ],
            "text/plain": [
              "<IPython.core.display.Markdown object>"
            ]
          },
          "metadata": {},
          "output_type": "display_data"
        },
        {
          "data": {
            "text/markdown": [
              "What is Java programming? How To Learn Java Programming Language ?"
            ],
            "text/plain": [
              "<IPython.core.display.Markdown object>"
            ]
          },
          "metadata": {},
          "output_type": "display_data"
        },
        {
          "data": {
            "text/markdown": [
              "How can I learn computer security?"
            ],
            "text/plain": [
              "<IPython.core.display.Markdown object>"
            ]
          },
          "metadata": {},
          "output_type": "display_data"
        },
        {
          "data": {
            "text/markdown": [
              "What is the best way to start robotics? Which is the best development board that I can start working on it?"
            ],
            "text/plain": [
              "<IPython.core.display.Markdown object>"
            ]
          },
          "metadata": {},
          "output_type": "display_data"
        },
        {
          "data": {
            "text/markdown": [
              "How can I learn to speak English fluently?"
            ],
            "text/plain": [
              "<IPython.core.display.Markdown object>"
            ]
          },
          "metadata": {},
          "output_type": "display_data"
        },
        {
          "data": {
            "text/markdown": [
              "What are the best ways to learn French?"
            ],
            "text/plain": [
              "<IPython.core.display.Markdown object>"
            ]
          },
          "metadata": {},
          "output_type": "display_data"
        },
        {
          "data": {
            "text/markdown": [
              "How can you make physics easy to learn?"
            ],
            "text/plain": [
              "<IPython.core.display.Markdown object>"
            ]
          },
          "metadata": {},
          "output_type": "display_data"
        },
        {
          "data": {
            "text/markdown": [
              "How do we prepare for UPSC?"
            ],
            "text/plain": [
              "<IPython.core.display.Markdown object>"
            ]
          },
          "metadata": {},
          "output_type": "display_data"
        },
        {
          "data": {
            "text/markdown": [
              "\n",
              "**Sparse Search Results:**"
            ],
            "text/plain": [
              "<IPython.core.display.Markdown object>"
            ]
          },
          "metadata": {},
          "output_type": "display_data"
        },
        {
          "data": {
            "text/markdown": [
              "What is Java<span style='color:red'> programming? How</span> To Learn Java Programming Language ?"
            ],
            "text/plain": [
              "<IPython.core.display.Markdown object>"
            ]
          },
          "metadata": {},
          "output_type": "display_data"
        },
        {
          "data": {
            "text/markdown": [
              "What's the best way<span style='color:red'> to start learning</span> robotics<span style='color:red'>?</span>"
            ],
            "text/plain": [
              "<IPython.core.display.Markdown object>"
            ]
          },
          "metadata": {},
          "output_type": "display_data"
        },
        {
          "data": {
            "text/markdown": [
              "What is the alternative<span style='color:red'> to</span> machine<span style='color:red'> learning?</span>"
            ],
            "text/plain": [
              "<IPython.core.display.Markdown object>"
            ]
          },
          "metadata": {},
          "output_type": "display_data"
        },
        {
          "data": {
            "text/markdown": [
              "<span style='color:red'>How</span> do I create a new Terminal and new shell in Linux using C<span style='color:red'> programming?</span>"
            ],
            "text/plain": [
              "<IPython.core.display.Markdown object>"
            ]
          },
          "metadata": {},
          "output_type": "display_data"
        },
        {
          "data": {
            "text/markdown": [
              "<span style='color:red'>How</span> do I create a new shell in a new terminal using C<span style='color:red'> programming</span> (Linux terminal)<span style='color:red'>?</span>"
            ],
            "text/plain": [
              "<IPython.core.display.Markdown object>"
            ]
          },
          "metadata": {},
          "output_type": "display_data"
        },
        {
          "data": {
            "text/markdown": [
              "Which business is better<span style='color:red'> to start</span> in Hyderabad<span style='color:red'>?</span>"
            ],
            "text/plain": [
              "<IPython.core.display.Markdown object>"
            ]
          },
          "metadata": {},
          "output_type": "display_data"
        },
        {
          "data": {
            "text/markdown": [
              "Which business is good<span style='color:red'> start</span> up in Hyderabad<span style='color:red'>?</span>"
            ],
            "text/plain": [
              "<IPython.core.display.Markdown object>"
            ]
          },
          "metadata": {},
          "output_type": "display_data"
        },
        {
          "data": {
            "text/markdown": [
              "What is the best way<span style='color:red'> to start</span> robotics<span style='color:red'>?</span> Which is the best development board that I can<span style='color:red'> start</span> working on it<span style='color:red'>?</span>"
            ],
            "text/plain": [
              "<IPython.core.display.Markdown object>"
            ]
          },
          "metadata": {},
          "output_type": "display_data"
        },
        {
          "data": {
            "text/markdown": [
              "What math does a complete newbie need<span style='color:red'> to</span> understand algorithms for computer<span style='color:red'> programming?</span> What books on algorithms are suitable for a complete beginner<span style='color:red'>?</span>"
            ],
            "text/plain": [
              "<IPython.core.display.Markdown object>"
            ]
          },
          "metadata": {},
          "output_type": "display_data"
        },
        {
          "data": {
            "text/markdown": [
              "<span style='color:red'>How</span> do you make life suit you and stop life from abusi<span style='color:red'>ng</span> you mentally and emotionally<span style='color:red'>?</span>"
            ],
            "text/plain": [
              "<IPython.core.display.Markdown object>"
            ]
          },
          "metadata": {},
          "output_type": "display_data"
        },
        {
          "data": {
            "text/markdown": [
              "\n",
              "**Hybrid Search Results:**"
            ],
            "text/plain": [
              "<IPython.core.display.Markdown object>"
            ]
          },
          "metadata": {},
          "output_type": "display_data"
        },
        {
          "data": {
            "text/markdown": [
              "What is the best way<span style='color:red'> to start</span> robotics<span style='color:red'>?</span> Which is the best development board that I can<span style='color:red'> start</span> working on it<span style='color:red'>?</span>"
            ],
            "text/plain": [
              "<IPython.core.display.Markdown object>"
            ]
          },
          "metadata": {},
          "output_type": "display_data"
        },
        {
          "data": {
            "text/markdown": [
              "What is Java<span style='color:red'> programming? How</span> To Learn Java Programming Language ?"
            ],
            "text/plain": [
              "<IPython.core.display.Markdown object>"
            ]
          },
          "metadata": {},
          "output_type": "display_data"
        },
        {
          "data": {
            "text/markdown": [
              "What's the best way<span style='color:red'> to start learning</span> robotics<span style='color:red'>?</span>"
            ],
            "text/plain": [
              "<IPython.core.display.Markdown object>"
            ]
          },
          "metadata": {},
          "output_type": "display_data"
        },
        {
          "data": {
            "text/markdown": [
              "<span style='color:red'>How</span> do we prepare for UPSC<span style='color:red'>?</span>"
            ],
            "text/plain": [
              "<IPython.core.display.Markdown object>"
            ]
          },
          "metadata": {},
          "output_type": "display_data"
        },
        {
          "data": {
            "text/markdown": [
              "<span style='color:red'>How</span> can you make physics easy<span style='color:red'> to</span> learn<span style='color:red'>?</span>"
            ],
            "text/plain": [
              "<IPython.core.display.Markdown object>"
            ]
          },
          "metadata": {},
          "output_type": "display_data"
        },
        {
          "data": {
            "text/markdown": [
              "What are the best ways<span style='color:red'> to</span> learn French<span style='color:red'>?</span>"
            ],
            "text/plain": [
              "<IPython.core.display.Markdown object>"
            ]
          },
          "metadata": {},
          "output_type": "display_data"
        },
        {
          "data": {
            "text/markdown": [
              "<span style='color:red'>How</span> can I learn<span style='color:red'> to</span> speak English fluently<span style='color:red'>?</span>"
            ],
            "text/plain": [
              "<IPython.core.display.Markdown object>"
            ]
          },
          "metadata": {},
          "output_type": "display_data"
        },
        {
          "data": {
            "text/markdown": [
              "<span style='color:red'>How</span> can I learn computer security<span style='color:red'>?</span>"
            ],
            "text/plain": [
              "<IPython.core.display.Markdown object>"
            ]
          },
          "metadata": {},
          "output_type": "display_data"
        },
        {
          "data": {
            "text/markdown": [
              "<span style='color:red'>How</span> can I get started<span style='color:red'> to</span> learn information security<span style='color:red'>?</span>"
            ],
            "text/plain": [
              "<IPython.core.display.Markdown object>"
            ]
          },
          "metadata": {},
          "output_type": "display_data"
        },
        {
          "data": {
            "text/markdown": [
              "<span style='color:red'>How</span> do I learn a computer language like java<span style='color:red'>?</span>"
            ],
            "text/plain": [
              "<IPython.core.display.Markdown object>"
            ]
          },
          "metadata": {},
          "output_type": "display_data"
        },
        {
          "data": {
            "text/markdown": [
              "What is the alternative<span style='color:red'> to</span> machine<span style='color:red'> learning?</span>"
            ],
            "text/plain": [
              "<IPython.core.display.Markdown object>"
            ]
          },
          "metadata": {},
          "output_type": "display_data"
        },
        {
          "data": {
            "text/markdown": [
              "<span style='color:red'>How</span> do I create a new Terminal and new shell in Linux using C<span style='color:red'> programming?</span>"
            ],
            "text/plain": [
              "<IPython.core.display.Markdown object>"
            ]
          },
          "metadata": {},
          "output_type": "display_data"
        },
        {
          "data": {
            "text/markdown": [
              "<span style='color:red'>How</span> do I create a new shell in a new terminal using C<span style='color:red'> programming</span> (Linux terminal)<span style='color:red'>?</span>"
            ],
            "text/plain": [
              "<IPython.core.display.Markdown object>"
            ]
          },
          "metadata": {},
          "output_type": "display_data"
        },
        {
          "data": {
            "text/markdown": [
              "Which business is better<span style='color:red'> to start</span> in Hyderabad<span style='color:red'>?</span>"
            ],
            "text/plain": [
              "<IPython.core.display.Markdown object>"
            ]
          },
          "metadata": {},
          "output_type": "display_data"
        },
        {
          "data": {
            "text/markdown": [
              "Which business is good<span style='color:red'> start</span> up in Hyderabad<span style='color:red'>?</span>"
            ],
            "text/plain": [
              "<IPython.core.display.Markdown object>"
            ]
          },
          "metadata": {},
          "output_type": "display_data"
        },
        {
          "data": {
            "text/markdown": [
              "What math does a complete newbie need<span style='color:red'> to</span> understand algorithms for computer<span style='color:red'> programming?</span> What books on algorithms are suitable for a complete beginner<span style='color:red'>?</span>"
            ],
            "text/plain": [
              "<IPython.core.display.Markdown object>"
            ]
          },
          "metadata": {},
          "output_type": "display_data"
        },
        {
          "data": {
            "text/markdown": [
              "<span style='color:red'>How</span> do you make life suit you and stop life from abusi<span style='color:red'>ng</span> you mentally and emotionally<span style='color:red'>?</span>"
            ],
            "text/plain": [
              "<IPython.core.display.Markdown object>"
            ]
          },
          "metadata": {},
          "output_type": "display_data"
        }
      ],
      "source": [
        "from IPython.display import Markdown, display\n",
        "\n",
        "# Dense search results\n",
        "display(Markdown(\"**Dense Search Results:**\"))\n",
        "formatted_results = doc_text_formatting(ef, query, dense_results)\n",
        "for result in dense_results:\n",
        "    display(Markdown(result))\n",
        "\n",
        "# Sparse search results\n",
        "display(Markdown(\"\\n**Sparse Search Results:**\"))\n",
        "formatted_results = doc_text_formatting(ef, query, sparse_results)\n",
        "for result in formatted_results:\n",
        "    display(Markdown(result))\n",
        "\n",
        "# Hybrid search results\n",
        "display(Markdown(\"\\n**Hybrid Search Results:**\"))\n",
        "formatted_results = doc_text_formatting(ef, query, hybrid_results)\n",
        "for result in formatted_results:\n",
        "    display(Markdown(result))"
      ]
    },
    {
      "cell_type": "markdown",
      "metadata": {
        "id": "xY7ldUOTf8H3"
      },
      "source": [
        "### Quick Deploy\n",
        "\n",
        "To learn about how to start an online demo with this tutorial, please refer to [the example application](https://github.com/milvus-io/bootcamp/tree/master/bootcamp/tutorials/quickstart/apps/hybrid_demo_with_milvus)."
      ]
    }
  ],
  "metadata": {
    "kernelspec": {
      "display_name": "Python 3",
      "language": "python",
      "name": "python3"
    },
    "language_info": {
      "codemirror_mode": {
        "name": "ipython",
        "version": 3
      },
      "file_extension": ".py",
      "mimetype": "text/x-python",
      "name": "python",
      "nbconvert_exporter": "python",
      "pygments_lexer": "ipython3",
      "version": "3.12.3"
    },
    "colab": {
      "provenance": []
    }
  },
  "nbformat": 4,
  "nbformat_minor": 0
}